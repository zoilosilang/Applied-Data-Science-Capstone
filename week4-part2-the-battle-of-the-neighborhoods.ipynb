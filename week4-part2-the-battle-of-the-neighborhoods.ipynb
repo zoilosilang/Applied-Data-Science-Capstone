{
 "metadata": {
  "language_info": {
   "codemirror_mode": {
    "name": "ipython",
    "version": 3
   },
   "file_extension": ".py",
   "mimetype": "text/x-python",
   "name": "python",
   "nbconvert_exporter": "python",
   "pygments_lexer": "ipython3",
   "version": "2020.7"
  },
  "orig_nbformat": 2,
  "kernelspec": {
   "name": "pythonjvsc74a57bd0fc33febecb25bf51ecb9e8745ca02a2d49ab50b5c3e3d57ffb721b0f2206d5d8",
   "display_name": "Python 2020.7 64-bit"
  },
  "metadata": {
   "interpreter": {
    "hash": "fc33febecb25bf51ecb9e8745ca02a2d49ab50b5c3e3d57ffb721b0f2206d5d8"
   }
  }
 },
 "nbformat": 4,
 "nbformat_minor": 2,
 "cells": [
  {
   "source": [
    "# Capstone Project - The Battle of the Neighborhoods (Week 1 - Part 2)\n",
    "### Applied Data Science Capstone by IBM/Coursera"
   ],
   "cell_type": "markdown",
   "metadata": {}
  },
  {
   "source": [
    "## Data <a name=\"data\"></a>"
   ],
   "cell_type": "markdown",
   "metadata": {}
  },
  {
   "source": [
    "Based on definition of our problem, factors that will influence our decision are:\n",
    "* the apartment must have at least 2 bedrooms\n",
    "* the monthly value of the rent cannot exceed R$ 1.700,00\n",
    "* it has to be at least 5km from workplace\n",
    "* it has to be near at least 1km from a gym and a market\n",
    "* social and economic characteristics of the neighborhod based on the available data\n",
    "\n",
    "We decided to select a few neighborhoods around our workplace to extract our data.\n",
    "\n",
    "Following data sources will be needed to extract/generate the required information:\n",
    "* coordinate of workplace will be obtained using **geocoder**\n",
    "* economical and location data of rental properties around the workplace will be obtained through **webscraping of a major online portal**.\n",
    "* nearby venues around each neighborhood will be obtained using **Foursquare API**"
   ],
   "cell_type": "markdown",
   "metadata": {}
  },
  {
   "cell_type": "code",
   "execution_count": null,
   "metadata": {},
   "outputs": [],
   "source": []
  }
 ]
}